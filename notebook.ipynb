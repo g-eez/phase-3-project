{
 "cells": [
  {
   "cell_type": "markdown",
   "id": "ab3529be",
   "metadata": {},
   "source": [
    "# SyriaTel Customer Churn Prediction Project\n",
    "\n",
    "## Business Understanding\n",
    "\n",
    "### Problem Statement\n",
    "SyriaTel, a telecommunications company, is losing customers who stop doing business with them, resulting in significant revenue losses. The company needs to identify customers who are likely to churn before they actually leave, enabling proactive retention strategies.\n",
    "\n",
    "**Core Business Question**: Are there predictable patterns in customer behavior that can help identify customers at risk of churning?\n",
    "\n",
    "### Stakeholders and Objectives\n",
    "\n",
    "#### Primary Stakeholder: SyriaTel Business Leadership\n",
    "- **Customer Retention Manager**: Reduce customer attrition rates through targeted interventions\n",
    "- **Revenue Team**: Minimize revenue loss from departing customers\n",
    "- **Customer Service Director**: Improve service quality based on churn drivers\n",
    "\n",
    "#### Business Objectives\n",
    "1. **Primary Goal**: Develop a binary classification model to predict customer churn with high accuracy\n",
    "2. **Identify Churn Drivers**: Understand which customer characteristics most strongly predict churn\n",
    "3. **Enable Proactive Retention**: Provide actionable insights for targeted customer retention campaigns\n",
    "4. **Optimize Resources**: Focus retention efforts on customers most likely to leave\n",
    "\n",
    "### Business Context\n",
    "Customer acquisition in telecommunications is 5-25 times more expensive than retention. In a competitive telecom market, customers easily switch providers for better deals or service quality. Early identification of at-risk customers allows for cost-effective retention interventions before customers actually leave.\n",
    "\n",
    "### Success Criteria\n",
    "\n",
    "#### Model Performance Targets\n",
    "- **ROC AUC Score > 0.80**: Strong ability to distinguish churners from non-churners\n",
    "- **High Precision**: Minimize false positives to avoid wasting retention resources\n",
    "- **Balanced Recall**: Capture majority of actual churners for intervention\n",
    "\n",
    "#### Business Impact Goals\n",
    "- Identify key behavioral patterns that predict churn\n",
    "- Enable data-driven retention strategies\n",
    "- Provide actionable recommendations for reducing customer attrition\n",
    "- Quantify potential revenue protection through improved retention\n",
    "\n",
    "### Project Scope\n",
    "- **Binary classification problem**: Predict churn (yes/no) using historical customer data\n",
    "- **Educational/analytical focus**: Model development and evaluation (not deployment)\n",
    "- **Data-driven insights**: Identify most important factors influencing customer churn\n",
    "- **Business recommendations**: Translate model findings into actionable retention strategies\n",
    "\n",
    "### Value Proposition\n",
    "By accurately predicting which customers are likely to churn, SyriaTel can:\n",
    "- Implement targeted retention campaigns before customers leave\n",
    "- Reduce customer acquisition costs by improving retention rates  \n",
    "- Address root causes of churn to improve overall customer satisfaction\n",
    "- Make data-driven decisions rather than reactive responses to customer departures"
   ]
  },
  {
   "cell_type": "code",
   "execution_count": 28,
   "id": "bd960093",
   "metadata": {},
   "outputs": [],
   "source": [
    "import pandas as pd\n",
    "import numpy as np\n",
    "import matplotlib.pyplot as plt\n",
    "import seaborn as sns\n",
    "import warnings\n",
    "warnings.filterwarnings('ignore')\n",
    "\n",
    "# Machine Learning Libraries\n",
    "from sklearn.model_selection import train_test_split\n",
    "from sklearn.preprocessing import StandardScaler\n",
    "from sklearn.linear_model import LogisticRegression\n",
    "from sklearn.tree import DecisionTreeClassifier\n",
    "from sklearn.ensemble import RandomForestClassifier\n",
    "from sklearn.metrics import (accuracy_score, precision_score, recall_score, \n",
    "                           f1_score, roc_auc_score, confusion_matrix, \n",
    "                           classification_report, roc_curve, auc)\n",
    "\n",
    "# Set style for better visualizations\n",
    "plt.style.use('default')\n",
    "sns.set_palette(\"husl\")"
   ]
  },
  {
   "cell_type": "code",
   "execution_count": 29,
   "id": "28de8ed2",
   "metadata": {},
   "outputs": [],
   "source": [
    "# Load the dataset\n",
    "df = pd.read_csv('data/SyriaTel customer churn.csv') \n"
   ]
  },
  {
   "cell_type": "markdown",
   "id": "21a71016",
   "metadata": {},
   "source": [
    "# Data Understanding\n",
    "\n",
    "## Dataset Overview\n",
    "The SyriaTel customer dataset contains **3,333 customer records** with **21 features** capturing customer demographics, service plans, usage patterns, and churn status. "
   ]
  },
  {
   "cell_type": "code",
   "execution_count": 30,
   "id": "4cf12158",
   "metadata": {},
   "outputs": [
    {
     "data": {
      "application/vnd.microsoft.datawrangler.viewer.v0+json": {
       "columns": [
        {
         "name": "index",
         "rawType": "int64",
         "type": "integer"
        },
        {
         "name": "state",
         "rawType": "object",
         "type": "string"
        },
        {
         "name": "account length",
         "rawType": "int64",
         "type": "integer"
        },
        {
         "name": "area code",
         "rawType": "int64",
         "type": "integer"
        },
        {
         "name": "phone number",
         "rawType": "object",
         "type": "string"
        },
        {
         "name": "international plan",
         "rawType": "object",
         "type": "string"
        },
        {
         "name": "voice mail plan",
         "rawType": "object",
         "type": "string"
        },
        {
         "name": "number vmail messages",
         "rawType": "int64",
         "type": "integer"
        },
        {
         "name": "total day minutes",
         "rawType": "float64",
         "type": "float"
        },
        {
         "name": "total day calls",
         "rawType": "int64",
         "type": "integer"
        },
        {
         "name": "total day charge",
         "rawType": "float64",
         "type": "float"
        },
        {
         "name": "total eve minutes",
         "rawType": "float64",
         "type": "float"
        },
        {
         "name": "total eve calls",
         "rawType": "int64",
         "type": "integer"
        },
        {
         "name": "total eve charge",
         "rawType": "float64",
         "type": "float"
        },
        {
         "name": "total night minutes",
         "rawType": "float64",
         "type": "float"
        },
        {
         "name": "total night calls",
         "rawType": "int64",
         "type": "integer"
        },
        {
         "name": "total night charge",
         "rawType": "float64",
         "type": "float"
        },
        {
         "name": "total intl minutes",
         "rawType": "float64",
         "type": "float"
        },
        {
         "name": "total intl calls",
         "rawType": "int64",
         "type": "integer"
        },
        {
         "name": "total intl charge",
         "rawType": "float64",
         "type": "float"
        },
        {
         "name": "customer service calls",
         "rawType": "int64",
         "type": "integer"
        },
        {
         "name": "churn",
         "rawType": "bool",
         "type": "boolean"
        }
       ],
       "ref": "44a4821e-a5b3-4e8b-b78c-37afa9d3e094",
       "rows": [
        [
         "0",
         "KS",
         "128",
         "415",
         "382-4657",
         "no",
         "yes",
         "25",
         "265.1",
         "110",
         "45.07",
         "197.4",
         "99",
         "16.78",
         "244.7",
         "91",
         "11.01",
         "10.0",
         "3",
         "2.7",
         "1",
         "False"
        ],
        [
         "1",
         "OH",
         "107",
         "415",
         "371-7191",
         "no",
         "yes",
         "26",
         "161.6",
         "123",
         "27.47",
         "195.5",
         "103",
         "16.62",
         "254.4",
         "103",
         "11.45",
         "13.7",
         "3",
         "3.7",
         "1",
         "False"
        ],
        [
         "2",
         "NJ",
         "137",
         "415",
         "358-1921",
         "no",
         "no",
         "0",
         "243.4",
         "114",
         "41.38",
         "121.2",
         "110",
         "10.3",
         "162.6",
         "104",
         "7.32",
         "12.2",
         "5",
         "3.29",
         "0",
         "False"
        ],
        [
         "3",
         "OH",
         "84",
         "408",
         "375-9999",
         "yes",
         "no",
         "0",
         "299.4",
         "71",
         "50.9",
         "61.9",
         "88",
         "5.26",
         "196.9",
         "89",
         "8.86",
         "6.6",
         "7",
         "1.78",
         "2",
         "False"
        ],
        [
         "4",
         "OK",
         "75",
         "415",
         "330-6626",
         "yes",
         "no",
         "0",
         "166.7",
         "113",
         "28.34",
         "148.3",
         "122",
         "12.61",
         "186.9",
         "121",
         "8.41",
         "10.1",
         "3",
         "2.73",
         "3",
         "False"
        ]
       ],
       "shape": {
        "columns": 21,
        "rows": 5
       }
      },
      "text/html": [
       "<div>\n",
       "<style scoped>\n",
       "    .dataframe tbody tr th:only-of-type {\n",
       "        vertical-align: middle;\n",
       "    }\n",
       "\n",
       "    .dataframe tbody tr th {\n",
       "        vertical-align: top;\n",
       "    }\n",
       "\n",
       "    .dataframe thead th {\n",
       "        text-align: right;\n",
       "    }\n",
       "</style>\n",
       "<table border=\"1\" class=\"dataframe\">\n",
       "  <thead>\n",
       "    <tr style=\"text-align: right;\">\n",
       "      <th></th>\n",
       "      <th>state</th>\n",
       "      <th>account length</th>\n",
       "      <th>area code</th>\n",
       "      <th>phone number</th>\n",
       "      <th>international plan</th>\n",
       "      <th>voice mail plan</th>\n",
       "      <th>number vmail messages</th>\n",
       "      <th>total day minutes</th>\n",
       "      <th>total day calls</th>\n",
       "      <th>total day charge</th>\n",
       "      <th>...</th>\n",
       "      <th>total eve calls</th>\n",
       "      <th>total eve charge</th>\n",
       "      <th>total night minutes</th>\n",
       "      <th>total night calls</th>\n",
       "      <th>total night charge</th>\n",
       "      <th>total intl minutes</th>\n",
       "      <th>total intl calls</th>\n",
       "      <th>total intl charge</th>\n",
       "      <th>customer service calls</th>\n",
       "      <th>churn</th>\n",
       "    </tr>\n",
       "  </thead>\n",
       "  <tbody>\n",
       "    <tr>\n",
       "      <th>0</th>\n",
       "      <td>KS</td>\n",
       "      <td>128</td>\n",
       "      <td>415</td>\n",
       "      <td>382-4657</td>\n",
       "      <td>no</td>\n",
       "      <td>yes</td>\n",
       "      <td>25</td>\n",
       "      <td>265.1</td>\n",
       "      <td>110</td>\n",
       "      <td>45.07</td>\n",
       "      <td>...</td>\n",
       "      <td>99</td>\n",
       "      <td>16.78</td>\n",
       "      <td>244.7</td>\n",
       "      <td>91</td>\n",
       "      <td>11.01</td>\n",
       "      <td>10.0</td>\n",
       "      <td>3</td>\n",
       "      <td>2.70</td>\n",
       "      <td>1</td>\n",
       "      <td>False</td>\n",
       "    </tr>\n",
       "    <tr>\n",
       "      <th>1</th>\n",
       "      <td>OH</td>\n",
       "      <td>107</td>\n",
       "      <td>415</td>\n",
       "      <td>371-7191</td>\n",
       "      <td>no</td>\n",
       "      <td>yes</td>\n",
       "      <td>26</td>\n",
       "      <td>161.6</td>\n",
       "      <td>123</td>\n",
       "      <td>27.47</td>\n",
       "      <td>...</td>\n",
       "      <td>103</td>\n",
       "      <td>16.62</td>\n",
       "      <td>254.4</td>\n",
       "      <td>103</td>\n",
       "      <td>11.45</td>\n",
       "      <td>13.7</td>\n",
       "      <td>3</td>\n",
       "      <td>3.70</td>\n",
       "      <td>1</td>\n",
       "      <td>False</td>\n",
       "    </tr>\n",
       "    <tr>\n",
       "      <th>2</th>\n",
       "      <td>NJ</td>\n",
       "      <td>137</td>\n",
       "      <td>415</td>\n",
       "      <td>358-1921</td>\n",
       "      <td>no</td>\n",
       "      <td>no</td>\n",
       "      <td>0</td>\n",
       "      <td>243.4</td>\n",
       "      <td>114</td>\n",
       "      <td>41.38</td>\n",
       "      <td>...</td>\n",
       "      <td>110</td>\n",
       "      <td>10.30</td>\n",
       "      <td>162.6</td>\n",
       "      <td>104</td>\n",
       "      <td>7.32</td>\n",
       "      <td>12.2</td>\n",
       "      <td>5</td>\n",
       "      <td>3.29</td>\n",
       "      <td>0</td>\n",
       "      <td>False</td>\n",
       "    </tr>\n",
       "    <tr>\n",
       "      <th>3</th>\n",
       "      <td>OH</td>\n",
       "      <td>84</td>\n",
       "      <td>408</td>\n",
       "      <td>375-9999</td>\n",
       "      <td>yes</td>\n",
       "      <td>no</td>\n",
       "      <td>0</td>\n",
       "      <td>299.4</td>\n",
       "      <td>71</td>\n",
       "      <td>50.90</td>\n",
       "      <td>...</td>\n",
       "      <td>88</td>\n",
       "      <td>5.26</td>\n",
       "      <td>196.9</td>\n",
       "      <td>89</td>\n",
       "      <td>8.86</td>\n",
       "      <td>6.6</td>\n",
       "      <td>7</td>\n",
       "      <td>1.78</td>\n",
       "      <td>2</td>\n",
       "      <td>False</td>\n",
       "    </tr>\n",
       "    <tr>\n",
       "      <th>4</th>\n",
       "      <td>OK</td>\n",
       "      <td>75</td>\n",
       "      <td>415</td>\n",
       "      <td>330-6626</td>\n",
       "      <td>yes</td>\n",
       "      <td>no</td>\n",
       "      <td>0</td>\n",
       "      <td>166.7</td>\n",
       "      <td>113</td>\n",
       "      <td>28.34</td>\n",
       "      <td>...</td>\n",
       "      <td>122</td>\n",
       "      <td>12.61</td>\n",
       "      <td>186.9</td>\n",
       "      <td>121</td>\n",
       "      <td>8.41</td>\n",
       "      <td>10.1</td>\n",
       "      <td>3</td>\n",
       "      <td>2.73</td>\n",
       "      <td>3</td>\n",
       "      <td>False</td>\n",
       "    </tr>\n",
       "  </tbody>\n",
       "</table>\n",
       "<p>5 rows × 21 columns</p>\n",
       "</div>"
      ],
      "text/plain": [
       "  state  account length  area code phone number international plan  \\\n",
       "0    KS             128        415     382-4657                 no   \n",
       "1    OH             107        415     371-7191                 no   \n",
       "2    NJ             137        415     358-1921                 no   \n",
       "3    OH              84        408     375-9999                yes   \n",
       "4    OK              75        415     330-6626                yes   \n",
       "\n",
       "  voice mail plan  number vmail messages  total day minutes  total day calls  \\\n",
       "0             yes                     25              265.1              110   \n",
       "1             yes                     26              161.6              123   \n",
       "2              no                      0              243.4              114   \n",
       "3              no                      0              299.4               71   \n",
       "4              no                      0              166.7              113   \n",
       "\n",
       "   total day charge  ...  total eve calls  total eve charge  \\\n",
       "0             45.07  ...               99             16.78   \n",
       "1             27.47  ...              103             16.62   \n",
       "2             41.38  ...              110             10.30   \n",
       "3             50.90  ...               88              5.26   \n",
       "4             28.34  ...              122             12.61   \n",
       "\n",
       "   total night minutes  total night calls  total night charge  \\\n",
       "0                244.7                 91               11.01   \n",
       "1                254.4                103               11.45   \n",
       "2                162.6                104                7.32   \n",
       "3                196.9                 89                8.86   \n",
       "4                186.9                121                8.41   \n",
       "\n",
       "   total intl minutes  total intl calls  total intl charge  \\\n",
       "0                10.0                 3               2.70   \n",
       "1                13.7                 3               3.70   \n",
       "2                12.2                 5               3.29   \n",
       "3                 6.6                 7               1.78   \n",
       "4                10.1                 3               2.73   \n",
       "\n",
       "   customer service calls  churn  \n",
       "0                       1  False  \n",
       "1                       1  False  \n",
       "2                       0  False  \n",
       "3                       2  False  \n",
       "4                       3  False  \n",
       "\n",
       "[5 rows x 21 columns]"
      ]
     },
     "execution_count": 30,
     "metadata": {},
     "output_type": "execute_result"
    }
   ],
   "source": [
    "df.head()"
   ]
  },
  {
   "cell_type": "code",
   "execution_count": 32,
   "id": "ab1d6b53",
   "metadata": {},
   "outputs": [
    {
     "data": {
      "text/plain": [
       "Index(['state', 'account length', 'area code', 'phone number',\n",
       "       'international plan', 'voice mail plan', 'number vmail messages',\n",
       "       'total day minutes', 'total day calls', 'total day charge',\n",
       "       'total eve minutes', 'total eve calls', 'total eve charge',\n",
       "       'total night minutes', 'total night calls', 'total night charge',\n",
       "       'total intl minutes', 'total intl calls', 'total intl charge',\n",
       "       'customer service calls', 'churn'],\n",
       "      dtype='object')"
      ]
     },
     "execution_count": 32,
     "metadata": {},
     "output_type": "execute_result"
    }
   ],
   "source": [
    "df.columns"
   ]
  },
  {
   "cell_type": "code",
   "execution_count": 33,
   "id": "15899585",
   "metadata": {},
   "outputs": [
    {
     "data": {
      "text/plain": [
       "(3333, 21)"
      ]
     },
     "execution_count": 33,
     "metadata": {},
     "output_type": "execute_result"
    }
   ],
   "source": [
    "df.shape"
   ]
  },
  {
   "cell_type": "code",
   "execution_count": 34,
   "id": "0a4b38bc",
   "metadata": {},
   "outputs": [
    {
     "name": "stdout",
     "output_type": "stream",
     "text": [
      "<class 'pandas.core.frame.DataFrame'>\n",
      "RangeIndex: 3333 entries, 0 to 3332\n",
      "Data columns (total 21 columns):\n",
      " #   Column                  Non-Null Count  Dtype  \n",
      "---  ------                  --------------  -----  \n",
      " 0   state                   3333 non-null   object \n",
      " 1   account length          3333 non-null   int64  \n",
      " 2   area code               3333 non-null   int64  \n",
      " 3   phone number            3333 non-null   object \n",
      " 4   international plan      3333 non-null   object \n",
      " 5   voice mail plan         3333 non-null   object \n",
      " 6   number vmail messages   3333 non-null   int64  \n",
      " 7   total day minutes       3333 non-null   float64\n",
      " 8   total day calls         3333 non-null   int64  \n",
      " 9   total day charge        3333 non-null   float64\n",
      " 10  total eve minutes       3333 non-null   float64\n",
      " 11  total eve calls         3333 non-null   int64  \n",
      " 12  total eve charge        3333 non-null   float64\n",
      " 13  total night minutes     3333 non-null   float64\n",
      " 14  total night calls       3333 non-null   int64  \n",
      " 15  total night charge      3333 non-null   float64\n",
      " 16  total intl minutes      3333 non-null   float64\n",
      " 17  total intl calls        3333 non-null   int64  \n",
      " 18  total intl charge       3333 non-null   float64\n",
      " 19  customer service calls  3333 non-null   int64  \n",
      " 20  churn                   3333 non-null   bool   \n",
      "dtypes: bool(1), float64(8), int64(8), object(4)\n",
      "memory usage: 524.2+ KB\n"
     ]
    }
   ],
   "source": [
    "df.info()\n"
   ]
  },
  {
   "cell_type": "code",
   "execution_count": 35,
   "id": "df4e5824",
   "metadata": {},
   "outputs": [
    {
     "data": {
      "application/vnd.microsoft.datawrangler.viewer.v0+json": {
       "columns": [
        {
         "name": "index",
         "rawType": "object",
         "type": "string"
        },
        {
         "name": "account length",
         "rawType": "float64",
         "type": "float"
        },
        {
         "name": "area code",
         "rawType": "float64",
         "type": "float"
        },
        {
         "name": "number vmail messages",
         "rawType": "float64",
         "type": "float"
        },
        {
         "name": "total day minutes",
         "rawType": "float64",
         "type": "float"
        },
        {
         "name": "total day calls",
         "rawType": "float64",
         "type": "float"
        },
        {
         "name": "total day charge",
         "rawType": "float64",
         "type": "float"
        },
        {
         "name": "total eve minutes",
         "rawType": "float64",
         "type": "float"
        },
        {
         "name": "total eve calls",
         "rawType": "float64",
         "type": "float"
        },
        {
         "name": "total eve charge",
         "rawType": "float64",
         "type": "float"
        },
        {
         "name": "total night minutes",
         "rawType": "float64",
         "type": "float"
        },
        {
         "name": "total night calls",
         "rawType": "float64",
         "type": "float"
        },
        {
         "name": "total night charge",
         "rawType": "float64",
         "type": "float"
        },
        {
         "name": "total intl minutes",
         "rawType": "float64",
         "type": "float"
        },
        {
         "name": "total intl calls",
         "rawType": "float64",
         "type": "float"
        },
        {
         "name": "total intl charge",
         "rawType": "float64",
         "type": "float"
        },
        {
         "name": "customer service calls",
         "rawType": "float64",
         "type": "float"
        }
       ],
       "ref": "3789de45-b2f0-4b6e-98f5-cb86dce2cb18",
       "rows": [
        [
         "count",
         "3333.0",
         "3333.0",
         "3333.0",
         "3333.0",
         "3333.0",
         "3333.0",
         "3333.0",
         "3333.0",
         "3333.0",
         "3333.0",
         "3333.0",
         "3333.0",
         "3333.0",
         "3333.0",
         "3333.0",
         "3333.0"
        ],
        [
         "mean",
         "101.06480648064806",
         "437.18241824182417",
         "8.099009900990099",
         "179.77509750975094",
         "100.43564356435644",
         "30.562307230723075",
         "200.98034803480348",
         "100.11431143114311",
         "17.083540354035403",
         "200.87203720372037",
         "100.10771077107711",
         "9.03932493249325",
         "10.237293729372938",
         "4.4794479447944795",
         "2.7645814581458144",
         "1.5628562856285628"
        ],
        [
         "std",
         "39.822105928595604",
         "42.371290485606224",
         "13.68836537203884",
         "54.46738920237142",
         "20.069084207300854",
         "9.259434553930507",
         "50.71384442581193",
         "19.92262529394309",
         "4.310667643110339",
         "50.5738470136583",
         "19.568609346058615",
         "2.2758728376600317",
         "2.7918395484084204",
         "2.4612142705460887",
         "0.7537726126630453",
         "1.3154910448664843"
        ],
        [
         "min",
         "1.0",
         "408.0",
         "0.0",
         "0.0",
         "0.0",
         "0.0",
         "0.0",
         "0.0",
         "0.0",
         "23.2",
         "33.0",
         "1.04",
         "0.0",
         "0.0",
         "0.0",
         "0.0"
        ],
        [
         "25%",
         "74.0",
         "408.0",
         "0.0",
         "143.7",
         "87.0",
         "24.43",
         "166.6",
         "87.0",
         "14.16",
         "167.0",
         "87.0",
         "7.52",
         "8.5",
         "3.0",
         "2.3",
         "1.0"
        ],
        [
         "50%",
         "101.0",
         "415.0",
         "0.0",
         "179.4",
         "101.0",
         "30.5",
         "201.4",
         "100.0",
         "17.12",
         "201.2",
         "100.0",
         "9.05",
         "10.3",
         "4.0",
         "2.78",
         "1.0"
        ],
        [
         "75%",
         "127.0",
         "510.0",
         "20.0",
         "216.4",
         "114.0",
         "36.79",
         "235.3",
         "114.0",
         "20.0",
         "235.3",
         "113.0",
         "10.59",
         "12.1",
         "6.0",
         "3.27",
         "2.0"
        ],
        [
         "max",
         "243.0",
         "510.0",
         "51.0",
         "350.8",
         "165.0",
         "59.64",
         "363.7",
         "170.0",
         "30.91",
         "395.0",
         "175.0",
         "17.77",
         "20.0",
         "20.0",
         "5.4",
         "9.0"
        ]
       ],
       "shape": {
        "columns": 16,
        "rows": 8
       }
      },
      "text/html": [
       "<div>\n",
       "<style scoped>\n",
       "    .dataframe tbody tr th:only-of-type {\n",
       "        vertical-align: middle;\n",
       "    }\n",
       "\n",
       "    .dataframe tbody tr th {\n",
       "        vertical-align: top;\n",
       "    }\n",
       "\n",
       "    .dataframe thead th {\n",
       "        text-align: right;\n",
       "    }\n",
       "</style>\n",
       "<table border=\"1\" class=\"dataframe\">\n",
       "  <thead>\n",
       "    <tr style=\"text-align: right;\">\n",
       "      <th></th>\n",
       "      <th>account length</th>\n",
       "      <th>area code</th>\n",
       "      <th>number vmail messages</th>\n",
       "      <th>total day minutes</th>\n",
       "      <th>total day calls</th>\n",
       "      <th>total day charge</th>\n",
       "      <th>total eve minutes</th>\n",
       "      <th>total eve calls</th>\n",
       "      <th>total eve charge</th>\n",
       "      <th>total night minutes</th>\n",
       "      <th>total night calls</th>\n",
       "      <th>total night charge</th>\n",
       "      <th>total intl minutes</th>\n",
       "      <th>total intl calls</th>\n",
       "      <th>total intl charge</th>\n",
       "      <th>customer service calls</th>\n",
       "    </tr>\n",
       "  </thead>\n",
       "  <tbody>\n",
       "    <tr>\n",
       "      <th>count</th>\n",
       "      <td>3333.000000</td>\n",
       "      <td>3333.000000</td>\n",
       "      <td>3333.000000</td>\n",
       "      <td>3333.000000</td>\n",
       "      <td>3333.000000</td>\n",
       "      <td>3333.000000</td>\n",
       "      <td>3333.000000</td>\n",
       "      <td>3333.000000</td>\n",
       "      <td>3333.000000</td>\n",
       "      <td>3333.000000</td>\n",
       "      <td>3333.000000</td>\n",
       "      <td>3333.000000</td>\n",
       "      <td>3333.000000</td>\n",
       "      <td>3333.000000</td>\n",
       "      <td>3333.000000</td>\n",
       "      <td>3333.000000</td>\n",
       "    </tr>\n",
       "    <tr>\n",
       "      <th>mean</th>\n",
       "      <td>101.064806</td>\n",
       "      <td>437.182418</td>\n",
       "      <td>8.099010</td>\n",
       "      <td>179.775098</td>\n",
       "      <td>100.435644</td>\n",
       "      <td>30.562307</td>\n",
       "      <td>200.980348</td>\n",
       "      <td>100.114311</td>\n",
       "      <td>17.083540</td>\n",
       "      <td>200.872037</td>\n",
       "      <td>100.107711</td>\n",
       "      <td>9.039325</td>\n",
       "      <td>10.237294</td>\n",
       "      <td>4.479448</td>\n",
       "      <td>2.764581</td>\n",
       "      <td>1.562856</td>\n",
       "    </tr>\n",
       "    <tr>\n",
       "      <th>std</th>\n",
       "      <td>39.822106</td>\n",
       "      <td>42.371290</td>\n",
       "      <td>13.688365</td>\n",
       "      <td>54.467389</td>\n",
       "      <td>20.069084</td>\n",
       "      <td>9.259435</td>\n",
       "      <td>50.713844</td>\n",
       "      <td>19.922625</td>\n",
       "      <td>4.310668</td>\n",
       "      <td>50.573847</td>\n",
       "      <td>19.568609</td>\n",
       "      <td>2.275873</td>\n",
       "      <td>2.791840</td>\n",
       "      <td>2.461214</td>\n",
       "      <td>0.753773</td>\n",
       "      <td>1.315491</td>\n",
       "    </tr>\n",
       "    <tr>\n",
       "      <th>min</th>\n",
       "      <td>1.000000</td>\n",
       "      <td>408.000000</td>\n",
       "      <td>0.000000</td>\n",
       "      <td>0.000000</td>\n",
       "      <td>0.000000</td>\n",
       "      <td>0.000000</td>\n",
       "      <td>0.000000</td>\n",
       "      <td>0.000000</td>\n",
       "      <td>0.000000</td>\n",
       "      <td>23.200000</td>\n",
       "      <td>33.000000</td>\n",
       "      <td>1.040000</td>\n",
       "      <td>0.000000</td>\n",
       "      <td>0.000000</td>\n",
       "      <td>0.000000</td>\n",
       "      <td>0.000000</td>\n",
       "    </tr>\n",
       "    <tr>\n",
       "      <th>25%</th>\n",
       "      <td>74.000000</td>\n",
       "      <td>408.000000</td>\n",
       "      <td>0.000000</td>\n",
       "      <td>143.700000</td>\n",
       "      <td>87.000000</td>\n",
       "      <td>24.430000</td>\n",
       "      <td>166.600000</td>\n",
       "      <td>87.000000</td>\n",
       "      <td>14.160000</td>\n",
       "      <td>167.000000</td>\n",
       "      <td>87.000000</td>\n",
       "      <td>7.520000</td>\n",
       "      <td>8.500000</td>\n",
       "      <td>3.000000</td>\n",
       "      <td>2.300000</td>\n",
       "      <td>1.000000</td>\n",
       "    </tr>\n",
       "    <tr>\n",
       "      <th>50%</th>\n",
       "      <td>101.000000</td>\n",
       "      <td>415.000000</td>\n",
       "      <td>0.000000</td>\n",
       "      <td>179.400000</td>\n",
       "      <td>101.000000</td>\n",
       "      <td>30.500000</td>\n",
       "      <td>201.400000</td>\n",
       "      <td>100.000000</td>\n",
       "      <td>17.120000</td>\n",
       "      <td>201.200000</td>\n",
       "      <td>100.000000</td>\n",
       "      <td>9.050000</td>\n",
       "      <td>10.300000</td>\n",
       "      <td>4.000000</td>\n",
       "      <td>2.780000</td>\n",
       "      <td>1.000000</td>\n",
       "    </tr>\n",
       "    <tr>\n",
       "      <th>75%</th>\n",
       "      <td>127.000000</td>\n",
       "      <td>510.000000</td>\n",
       "      <td>20.000000</td>\n",
       "      <td>216.400000</td>\n",
       "      <td>114.000000</td>\n",
       "      <td>36.790000</td>\n",
       "      <td>235.300000</td>\n",
       "      <td>114.000000</td>\n",
       "      <td>20.000000</td>\n",
       "      <td>235.300000</td>\n",
       "      <td>113.000000</td>\n",
       "      <td>10.590000</td>\n",
       "      <td>12.100000</td>\n",
       "      <td>6.000000</td>\n",
       "      <td>3.270000</td>\n",
       "      <td>2.000000</td>\n",
       "    </tr>\n",
       "    <tr>\n",
       "      <th>max</th>\n",
       "      <td>243.000000</td>\n",
       "      <td>510.000000</td>\n",
       "      <td>51.000000</td>\n",
       "      <td>350.800000</td>\n",
       "      <td>165.000000</td>\n",
       "      <td>59.640000</td>\n",
       "      <td>363.700000</td>\n",
       "      <td>170.000000</td>\n",
       "      <td>30.910000</td>\n",
       "      <td>395.000000</td>\n",
       "      <td>175.000000</td>\n",
       "      <td>17.770000</td>\n",
       "      <td>20.000000</td>\n",
       "      <td>20.000000</td>\n",
       "      <td>5.400000</td>\n",
       "      <td>9.000000</td>\n",
       "    </tr>\n",
       "  </tbody>\n",
       "</table>\n",
       "</div>"
      ],
      "text/plain": [
       "       account length    area code  number vmail messages  total day minutes  \\\n",
       "count     3333.000000  3333.000000            3333.000000        3333.000000   \n",
       "mean       101.064806   437.182418               8.099010         179.775098   \n",
       "std         39.822106    42.371290              13.688365          54.467389   \n",
       "min          1.000000   408.000000               0.000000           0.000000   \n",
       "25%         74.000000   408.000000               0.000000         143.700000   \n",
       "50%        101.000000   415.000000               0.000000         179.400000   \n",
       "75%        127.000000   510.000000              20.000000         216.400000   \n",
       "max        243.000000   510.000000              51.000000         350.800000   \n",
       "\n",
       "       total day calls  total day charge  total eve minutes  total eve calls  \\\n",
       "count      3333.000000       3333.000000        3333.000000      3333.000000   \n",
       "mean        100.435644         30.562307         200.980348       100.114311   \n",
       "std          20.069084          9.259435          50.713844        19.922625   \n",
       "min           0.000000          0.000000           0.000000         0.000000   \n",
       "25%          87.000000         24.430000         166.600000        87.000000   \n",
       "50%         101.000000         30.500000         201.400000       100.000000   \n",
       "75%         114.000000         36.790000         235.300000       114.000000   \n",
       "max         165.000000         59.640000         363.700000       170.000000   \n",
       "\n",
       "       total eve charge  total night minutes  total night calls  \\\n",
       "count       3333.000000          3333.000000        3333.000000   \n",
       "mean          17.083540           200.872037         100.107711   \n",
       "std            4.310668            50.573847          19.568609   \n",
       "min            0.000000            23.200000          33.000000   \n",
       "25%           14.160000           167.000000          87.000000   \n",
       "50%           17.120000           201.200000         100.000000   \n",
       "75%           20.000000           235.300000         113.000000   \n",
       "max           30.910000           395.000000         175.000000   \n",
       "\n",
       "       total night charge  total intl minutes  total intl calls  \\\n",
       "count         3333.000000         3333.000000       3333.000000   \n",
       "mean             9.039325           10.237294          4.479448   \n",
       "std              2.275873            2.791840          2.461214   \n",
       "min              1.040000            0.000000          0.000000   \n",
       "25%              7.520000            8.500000          3.000000   \n",
       "50%              9.050000           10.300000          4.000000   \n",
       "75%             10.590000           12.100000          6.000000   \n",
       "max             17.770000           20.000000         20.000000   \n",
       "\n",
       "       total intl charge  customer service calls  \n",
       "count        3333.000000             3333.000000  \n",
       "mean            2.764581                1.562856  \n",
       "std             0.753773                1.315491  \n",
       "min             0.000000                0.000000  \n",
       "25%             2.300000                1.000000  \n",
       "50%             2.780000                1.000000  \n",
       "75%             3.270000                2.000000  \n",
       "max             5.400000                9.000000  "
      ]
     },
     "execution_count": 35,
     "metadata": {},
     "output_type": "execute_result"
    }
   ],
   "source": [
    "df.describe()\n"
   ]
  },
  {
   "cell_type": "code",
   "execution_count": 36,
   "id": "77aede01",
   "metadata": {},
   "outputs": [
    {
     "data": {
      "application/vnd.microsoft.datawrangler.viewer.v0+json": {
       "columns": [
        {
         "name": "index",
         "rawType": "object",
         "type": "string"
        },
        {
         "name": "0",
         "rawType": "int64",
         "type": "integer"
        }
       ],
       "ref": "331f8968-a2b6-40d3-b5f7-64995f32414d",
       "rows": [
        [
         "state",
         "0"
        ],
        [
         "account length",
         "0"
        ],
        [
         "area code",
         "0"
        ],
        [
         "phone number",
         "0"
        ],
        [
         "international plan",
         "0"
        ],
        [
         "voice mail plan",
         "0"
        ],
        [
         "number vmail messages",
         "0"
        ],
        [
         "total day minutes",
         "0"
        ],
        [
         "total day calls",
         "0"
        ],
        [
         "total day charge",
         "0"
        ],
        [
         "total eve minutes",
         "0"
        ],
        [
         "total eve calls",
         "0"
        ],
        [
         "total eve charge",
         "0"
        ],
        [
         "total night minutes",
         "0"
        ],
        [
         "total night calls",
         "0"
        ],
        [
         "total night charge",
         "0"
        ],
        [
         "total intl minutes",
         "0"
        ],
        [
         "total intl calls",
         "0"
        ],
        [
         "total intl charge",
         "0"
        ],
        [
         "customer service calls",
         "0"
        ],
        [
         "churn",
         "0"
        ]
       ],
       "shape": {
        "columns": 1,
        "rows": 21
       }
      },
      "text/plain": [
       "state                     0\n",
       "account length            0\n",
       "area code                 0\n",
       "phone number              0\n",
       "international plan        0\n",
       "voice mail plan           0\n",
       "number vmail messages     0\n",
       "total day minutes         0\n",
       "total day calls           0\n",
       "total day charge          0\n",
       "total eve minutes         0\n",
       "total eve calls           0\n",
       "total eve charge          0\n",
       "total night minutes       0\n",
       "total night calls         0\n",
       "total night charge        0\n",
       "total intl minutes        0\n",
       "total intl calls          0\n",
       "total intl charge         0\n",
       "customer service calls    0\n",
       "churn                     0\n",
       "dtype: int64"
      ]
     },
     "execution_count": 36,
     "metadata": {},
     "output_type": "execute_result"
    }
   ],
   "source": [
    "df.isnull().sum()"
   ]
  },
  {
   "cell_type": "code",
   "execution_count": null,
   "id": "76787361",
   "metadata": {},
   "outputs": [],
   "source": [
    "# Plot churn distribution\n",
    "sns.countplot(data=df, x='churn', palette='Set2')\n",
    "plt.title('Churn Distribution')\n",
    "plt.xticks([0, 1], ['Not Churned', 'Churned'])\n",
    "plt.ylabel('Number of Customers')\n",
    "plt.xlabel('Churn')\n",
    "plt.show()\n"
   ]
  },
  {
   "cell_type": "code",
   "execution_count": null,
   "id": "21538698",
   "metadata": {},
   "outputs": [],
   "source": [
    "num_cols = [\n",
    "    'total day minutes', 'total eve minutes', 'total night minutes',\n",
    "    'total intl minutes', 'customer service calls'\n",
    "]\n",
    "\n",
    "# Plot histograms\n",
    "df[num_cols].hist(bins=30, figsize=(15, 10), edgecolor='black')\n",
    "plt.suptitle('Distribution of Key Numerical Features', fontsize=16)\n",
    "plt.show()\n"
   ]
  },
  {
   "cell_type": "markdown",
   "id": "6277d9f8",
   "metadata": {},
   "source": [
    "\n",
    "### Dataset Structure\n",
    "- **Total Records**: 3,333 customers\n",
    "- **Total Features**: 21 columns (20 predictors + 1 target variable)\n",
    "- **Data Quality**: Complete dataset with no null values\n",
    "\n",
    "### Target Variable\n",
    "- **churn**: Boolean (TRUE/FALSE) indicating whether customer has churned\n",
    "  - Data type: `bool`\n",
    "  - From sample data: Mix of TRUE and FALSE values indicating balanced classes\n",
    "\n",
    "### Data Types Distribution\n",
    "- **Categorical Variables (4)**: state, international plan, voice mail plan\n",
    "- **Numerical - Integer (8)**: account length, area code, number vmail messages, call counts\n",
    "- **Numerical - Float (8)**: minutes and charges across different time periods\n",
    "- **Boolean (1)**: churn target variable\n",
    "\n",
    "### Key Observations from Sample Data\n",
    "From the first few rows, we can observe:\n",
    "- **Geographic diversity**: Customers from multiple states (KS, OH, NJ, etc.)\n",
    "- **Service plan adoption**: Mix of customers with/without international and voice mail plans\n",
    "- **Usage variability**: Wide range of call minutes, calls, and charges across time periods\n",
    "- **Customer service interactions**: Varying levels of customer service call frequency\n",
    "- **Churn distribution**: Both churned (TRUE) and retained (FALSE) customers present\n",
    "\n",
    "### Data Quality Assessment\n",
    "- **Completeness**: 100% - No missing values in any column\n",
    "- **Consistency**: Structured format with consistent data types\n",
    "- **Uniqueness**: Phone numbers appear to be unique identifiers\n",
    "- **Validity**: All data types are appropriate for their respective features"
   ]
  },
  {
   "cell_type": "markdown",
   "id": "b7878d96",
   "metadata": {},
   "source": [
    "# Data Preparation\n",
    "\n",
    "## Overview\n",
    "Data preparation is crucial for machine learning model performance. Raw data rarely comes in a format suitable for algorithms, requiring systematic preprocessing to ensure models can learn meaningful patterns effectively.\n",
    "\n",
    "## Data Preparation Steps\n",
    "\n",
    "### 1. Feature Selection and Removal\n",
    "\n",
    "#### Remove Identifier Columns\n",
    "- **Target**: Drop `phone number` column\n",
    "- **Reason**: Unique identifiers provide no predictive value and can cause overfitting\n",
    "- **ML Impact**: Prevents model from memorizing individual records instead of learning generalizable patterns\n",
    "\n",
    "### 2. Target Variable Encoding\n",
    "\n",
    "#### Convert Boolean Target to Numeric\n",
    "- **Target**: Convert `churn` from TRUE/FALSE to 1/0\n",
    "- **Reason**: Most ML algorithms require numeric target variables for binary classification\n",
    "- **ML Impact**: Enables proper loss function calculation and probability prediction\n",
    "\n",
    "### 3. Categorical Variable Encoding\n",
    "\n",
    "#### Binary Categorical Variables\n",
    "- **Target**: Convert `international plan` and `voice mail plan` from yes/no to 1/0\n",
    "- **Reason**: Algorithms require numeric inputs; binary encoding preserves meaning\n",
    "- **ML Impact**: Allows models to process categorical information as numeric features\n",
    "\n",
    "#### Nominal Categorical Variables\n",
    "- **Target**: One-hot encode `state` variable\n",
    "- **Reason**: States have no ordinal relationship; one-hot encoding prevents false ordinality\n",
    "- **ML Impact**: Creates binary features for each state without implying ordering, preventing model bias\n",
    "\n",
    "### 4. Data Quality Checks\n",
    "\n",
    "#### Missing Value Assessment\n",
    "- **Target**: Verify no null values exist (already confirmed: 100% complete)\n",
    "- **Reason**: Missing values can break algorithms or introduce bias\n",
    "- **ML Impact**: Ensures stable model training without imputation artifacts\n",
    "\n",
    "#### Duplicate Detection\n",
    "- **Target**: Identify and remove duplicate records\n",
    "- **Reason**: Duplicates can skew model learning and evaluation metrics\n",
    "- **ML Impact**: Prevents data leakage and ensures fair train-test split\n",
    "\n",
    "### 5. Feature Engineering\n",
    "\n",
    "#### Create Aggregated Features\n",
    "- **Total Charges**: Sum of day, evening, night, and international charges\n",
    "- **Total Minutes**: Sum of all call minutes across time periods\n",
    "- **Total Calls**: Sum of all calls across time periods\n",
    "- **Average Minutes per Call**: Total minutes divided by total calls\n",
    "- **Reason**: Aggregate features capture overall customer usage patterns beyond time-specific behavior\n",
    "- **ML Impact**: Provides higher-level features that may be more predictive than individual components\n",
    "\n",
    "#### Create Behavioral Indicators\n",
    "- **High Engagement Flag**: Binary indicator for customers with above-median usage\n",
    "- **Reason**: Usage intensity may be a strong predictor of customer loyalty/churn\n",
    "- **ML Impact**: Transforms continuous variables into interpretable binary predictors\n",
    "\n",
    "### 6. Data Splitting Strategy\n",
    "\n",
    "#### Train-Test Split (80/20)\n",
    "- **Method**: Stratified sampling on target variable\n",
    "- **Reason**: Ensures both training and test sets maintain the same churn rate distribution\n",
    "- **ML Impact**: Provides unbiased evaluation and prevents class imbalance issues in splits\n",
    "\n",
    "### 7. Feature Scaling\n",
    "\n",
    "#### Standardization for Scale-Sensitive Models\n",
    "- **Target**: Apply StandardScaler to numeric features for logistic regression\n",
    "- **Reason**: Features like minutes (hundreds) and charges (tens) have different scales\n",
    "- **ML Impact**: Prevents features with larger scales from dominating model learning\n",
    "- **Note**: Tree-based models (Random Forest, Decision Tree) don't require scaling\n",
    "\n",
    "## Preprocessing Pipeline Rationale\n",
    "\n",
    "### Why This Order Matters\n",
    "1. **Feature removal first**: Eliminates noise before encoding\n",
    "2. **Target encoding early**: Ensures proper data type for all subsequent operations  \n",
    "3. **Categorical encoding**: Prepares all features for numeric processing\n",
    "4. **Quality checks**: Validates data integrity before feature creation\n",
    "5. **Feature engineering**: Creates new predictive features from clean base data\n",
    "6. **Train-test split**: Prevents data leakage by splitting before scaling\n",
    "7. **Scaling last**: Applied only to training data, then transformed to test data\n",
    "\n",
    "### Model-Specific Considerations\n",
    "\n",
    "#### For Logistic Regression\n",
    "- Requires feature scaling due to gradient-based optimization\n",
    "- Benefits from one-hot encoding of categorical variables\n",
    "- Sensitive to feature collinearity (charges vs minutes)\n",
    "\n",
    "#### For Tree-Based Models (Random Forest, Decision Tree)\n",
    "- Scale-invariant, no standardization needed\n",
    "- Handle categorical variables naturally\n",
    "- Can capture non-linear relationships and feature interactions\n",
    "\n",
    "## Expected Outcomes\n",
    "After data preparation, we will have:\n",
    "- **Clean numeric dataset** ready for all ML algorithms\n",
    "- **Engineered features** that capture customer behavior patterns\n",
    "- **Properly encoded categorical variables** without ordinality bias\n",
    "- **Balanced train-test splits** for unbiased evaluation\n",
    "- **Scaled features** for gradient-based models\n",
    "- **Quality-assured data** free from duplicates and missing values\n",
    "\n",
    "This preparation ensures our models can learn meaningful patterns from the data while avoiding common pitfalls like data leakage, scale bias, and encoding errors."
   ]
  },
  {
   "cell_type": "markdown",
   "id": "04a135c0",
   "metadata": {},
   "source": [
    "### 1. Feature Selection and Removal\n",
    "#### Drop Identifier Columns"
   ]
  },
  {
   "cell_type": "code",
   "execution_count": 38,
   "id": "6e70edc2",
   "metadata": {},
   "outputs": [
    {
     "name": "stdout",
     "output_type": "stream",
     "text": [
      "Remaining columns after dropping identifier:\n",
      "['state', 'account length', 'area code', 'international plan', 'voice mail plan', 'number vmail messages', 'total day minutes', 'total day calls', 'total day charge', 'total eve minutes', 'total eve calls', 'total eve charge', 'total night minutes', 'total night calls', 'total night charge', 'total intl minutes', 'total intl calls', 'total intl charge', 'customer service calls', 'churn']\n"
     ]
    }
   ],
   "source": [
    "# Make a copy to preserve original dataframe\n",
    "df_clean = df.copy()\n",
    "\n",
    "df_clean.drop(['phone number'], axis=1, inplace=True)\n",
    "\n",
    "# Display resulting column names to confirm\n",
    "print(\"Remaining columns after dropping identifier:\")\n",
    "print(df_clean.columns.tolist())"
   ]
  },
  {
   "cell_type": "markdown",
   "id": "d1f0b312",
   "metadata": {},
   "source": [
    "\n",
    "#### In this step, we removed the phone number column because it is a unique identifier for each customer and contains no useful signal for predicting churn. Keeping it would risk overfitting, as the model might memorize specific entries rather than generalize. We retain only features relevant for churn prediction."
   ]
  },
  {
   "cell_type": "markdown",
   "id": "856aeac7",
   "metadata": {},
   "source": [
    "### 2. Target Variable Encoding\n",
    "#### Convert churn to Numeric"
   ]
  },
  {
   "cell_type": "code",
   "execution_count": 40,
   "id": "ec8dfe9f",
   "metadata": {},
   "outputs": [
    {
     "name": "stdout",
     "output_type": "stream",
     "text": [
      "Unique values before encoding: [0 1]\n",
      "Unique values after encoding: [0 1]\n"
     ]
    },
    {
     "data": {
      "application/vnd.microsoft.datawrangler.viewer.v0+json": {
       "columns": [
        {
         "name": "churn",
         "rawType": "int64",
         "type": "integer"
        },
        {
         "name": "count",
         "rawType": "int64",
         "type": "integer"
        }
       ],
       "ref": "26885c6b-6977-4f60-8cd2-ea8d7c204bea",
       "rows": [
        [
         "0",
         "2850"
        ],
        [
         "1",
         "483"
        ]
       ],
       "shape": {
        "columns": 1,
        "rows": 2
       }
      },
      "text/plain": [
       "churn\n",
       "0    2850\n",
       "1     483\n",
       "Name: count, dtype: int64"
      ]
     },
     "execution_count": 40,
     "metadata": {},
     "output_type": "execute_result"
    }
   ],
   "source": [
    "\n",
    "# Confirm unique values in churn column\n",
    "print(\"Unique values before encoding:\", df_clean['churn'].unique())\n",
    "\n",
    "# Convert 'churn' from boolean or string to numeric (if not already)\n",
    "df_clean['churn'] = df_clean['churn'].map({'yes': 1, 'no': 0, True: 1, False: 0})\n",
    "\n",
    "# Verify the result\n",
    "print(\"Unique values after encoding:\", df_clean['churn'].unique())\n",
    "df_clean['churn'].value_counts()\n"
   ]
  },
  {
   "cell_type": "markdown",
   "id": "1e328050",
   "metadata": {},
   "source": [
    "#### The target variable churn indicates whether a customer has left SyriaTel’s services. Since machine learning algorithms require numeric input, we convert:\n",
    "\n",
    "'yes' / True → 1\n",
    "\n",
    "'no' / False → 0\n",
    "\n",
    "#### This binary encoding enables compatibility with all classification models, supports proper loss function calculation, and allows for metrics like accuracy and ROC AUC.\n",
    "\n",
    "#### After encoding, we confirm that only 0 and 1 values remain."
   ]
  },
  {
   "cell_type": "markdown",
   "id": "732f6109",
   "metadata": {},
   "source": [
    "### 3. Categorical Variable Encoding"
   ]
  },
  {
   "cell_type": "code",
   "execution_count": 41,
   "id": "0b039ff7",
   "metadata": {},
   "outputs": [
    {
     "name": "stdout",
     "output_type": "stream",
     "text": [
      "Shape after encoding: (3333, 69)\n",
      "Encoded columns preview:\n",
      "['account length', 'area code', 'international plan', 'voice mail plan', 'number vmail messages', 'total day minutes', 'total day calls', 'total day charge', 'total eve minutes', 'total eve calls', 'total eve charge', 'total night minutes', 'total night calls', 'total night charge', 'total intl minutes', 'total intl calls', 'total intl charge', 'customer service calls', 'churn', 'state_AL', 'state_AR', 'state_AZ', 'state_CA', 'state_CO', 'state_CT', 'state_DC', 'state_DE', 'state_FL', 'state_GA', 'state_HI', 'state_IA', 'state_ID', 'state_IL', 'state_IN', 'state_KS', 'state_KY', 'state_LA', 'state_MA', 'state_MD', 'state_ME', 'state_MI', 'state_MN', 'state_MO', 'state_MS', 'state_MT', 'state_NC', 'state_ND', 'state_NE', 'state_NH', 'state_NJ', 'state_NM', 'state_NV', 'state_NY', 'state_OH', 'state_OK', 'state_OR', 'state_PA', 'state_RI', 'state_SC', 'state_SD', 'state_TN', 'state_TX', 'state_UT', 'state_VA', 'state_VT', 'state_WA', 'state_WI', 'state_WV', 'state_WY']\n"
     ]
    }
   ],
   "source": [
    "# Convert 'yes'/'no' to 1/0 for binary categorical features\n",
    "binary_cols = ['international plan', 'voice mail plan']\n",
    "for col in binary_cols:\n",
    "    if col in df_clean.columns:\n",
    "        df_clean[col] = df_clean[col].map({'yes': 1, 'no': 0})\n",
    "\n",
    "# Step 3b: One-Hot Encode Nominal Categorical Features\n",
    "\n",
    "# Check if 'state' exists and apply one-hot encoding\n",
    "if 'state' in df_clean.columns:\n",
    "    df_clean = pd.get_dummies(df_clean, columns=['state'], drop_first=True)\n",
    "\n",
    "# Show the shape and columns after encoding\n",
    "print(f\"Shape after encoding: {df_clean.shape}\")\n",
    "print(\"Encoded columns preview:\")\n",
    "print(df_clean.columns.tolist())\n"
   ]
  },
  {
   "cell_type": "markdown",
   "id": "ffd55a75",
   "metadata": {},
   "source": [
    "### Machine learning models require numeric input, so we convert all categorical features:\n",
    "\n",
    "#### 🔹 Binary Encoding\n",
    "#### Columns like international plan and voice mail plan have two possible values: 'yes' and 'no'\n",
    "\n",
    "#### We map 'yes' → 1 and 'no' → 0 to retain their binary nature while making them usable by ML algorithms\n",
    "\n",
    "#### 🔹 One-Hot Encoding for Nominal Variables\n",
    "#### The state column is nominal (non-ordinal) with many unique values\n",
    "\n",
    "#### We use pd.get_dummies() to one-hot encode state, dropping the first column to avoid multicollinearity\n",
    "\n",
    "#### This ensures that categorical data is numerically represented without implying false ordering or relationships."
   ]
  },
  {
   "cell_type": "markdown",
   "id": "99120f5f",
   "metadata": {},
   "source": [
    "### 4. Data Quality Checks"
   ]
  },
  {
   "cell_type": "code",
   "execution_count": 42,
   "id": "c6b77031",
   "metadata": {},
   "outputs": [
    {
     "name": "stdout",
     "output_type": "stream",
     "text": [
      "Missing values per column:\n",
      "Series([], dtype: int64)\n",
      "\n",
      "✅ No missing values found in the dataset.\n",
      "\n",
      "Number of duplicate rows: 0\n",
      "✅ No duplicate rows found.\n"
     ]
    }
   ],
   "source": [
    "# Step 4a: Check for Missing Values\n",
    "missing_values = df_clean.isnull().sum()\n",
    "print(\"Missing values per column:\")\n",
    "print(missing_values[missing_values > 0])\n",
    "\n",
    "# Optional: Check if dataset is completely clean\n",
    "if missing_values.sum() == 0:\n",
    "    print(\"\\n✅ No missing values found in the dataset.\")\n",
    "\n",
    "# Step 4b: Check for Duplicates\n",
    "num_duplicates = df_clean.duplicated().sum()\n",
    "print(f\"\\nNumber of duplicate rows: {num_duplicates}\")\n",
    "\n",
    "# Drop duplicates if any\n",
    "if num_duplicates > 0:\n",
    "    df_clean = df_clean.drop_duplicates()\n",
    "    print(f\"✅ Removed {num_duplicates} duplicate rows.\")\n",
    "else:\n",
    "    print(\"✅ No duplicate rows found.\")\n"
   ]
  },
  {
   "cell_type": "markdown",
   "id": "27a130e9",
   "metadata": {},
   "source": [
    "### 5. Feature Engineering\n",
    "### To enhance model performance and interpretability, we engineered new features that summarize and highlight customer usage behavior:"
   ]
  },
  {
   "cell_type": "code",
   "execution_count": 44,
   "id": "d2875ee1",
   "metadata": {},
   "outputs": [],
   "source": [
    "# Aggregated Features\n",
    "\n",
    "# Total charges across all time periods\n",
    "df_clean['total charge'] = (\n",
    "    df_clean['total day charge'] +\n",
    "    df_clean['total eve charge'] +\n",
    "    df_clean['total night charge'] +\n",
    "    df_clean['total intl charge']\n",
    ")\n",
    "\n",
    "# Total minutes across all time periods\n",
    "df_clean['total minutes'] = (\n",
    "    df_clean['total day minutes'] +\n",
    "    df_clean['total eve minutes'] +\n",
    "    df_clean['total night minutes'] +\n",
    "    df_clean['total intl minutes']\n",
    ")\n",
    "\n",
    "# Total calls across all time periods\n",
    "df_clean['total calls'] = (\n",
    "    df_clean['total day calls'] +\n",
    "    df_clean['total eve calls'] +\n",
    "    df_clean['total night calls'] +\n",
    "    df_clean['total intl calls']\n",
    ")\n",
    "\n",
    "# Avoid division by zero when computing average\n",
    "df_clean['avg minutes per call'] = df_clean['total minutes'] / df_clean['total calls']\n",
    "df_clean['avg minutes per call'].replace([np.inf, -np.inf], 0, inplace=True)\n",
    "\n"
   ]
  },
  {
   "cell_type": "markdown",
   "id": "561231df",
   "metadata": {},
   "source": [
    "### Aggregated Features\n",
    "#### total charge: Total cost from day, evening, night, and international usage\n",
    "\n",
    "#### total minutes: Sum of all call durations across periods\n",
    "\n",
    "#### total calls: Total number of calls made\n",
    "\n",
    "#### avg minutes per call: Indicates average call length (a potential loyalty signal)\n",
    "\n",
    "### These features help the model understand overall customer usage patterns, beyond individual components."
   ]
  },
  {
   "cell_type": "code",
   "execution_count": 45,
   "id": "6700c3ad",
   "metadata": {},
   "outputs": [
    {
     "data": {
      "application/vnd.microsoft.datawrangler.viewer.v0+json": {
       "columns": [
        {
         "name": "index",
         "rawType": "int64",
         "type": "integer"
        },
        {
         "name": "total charge",
         "rawType": "float64",
         "type": "float"
        },
        {
         "name": "total minutes",
         "rawType": "float64",
         "type": "float"
        },
        {
         "name": "total calls",
         "rawType": "int64",
         "type": "integer"
        },
        {
         "name": "avg minutes per call",
         "rawType": "float64",
         "type": "float"
        },
        {
         "name": "high_engagement",
         "rawType": "int32",
         "type": "integer"
        }
       ],
       "ref": "ce57b8d3-79e5-493c-a35d-a9b6f31223d2",
       "rows": [
        [
         "0",
         "75.56",
         "717.2",
         "303",
         "2.366996699669967",
         "1"
        ],
        [
         "1",
         "59.24000000000001",
         "625.2",
         "332",
         "1.883132530120482",
         "1"
        ],
        [
         "2",
         "62.290000000000006",
         "539.4000000000001",
         "333",
         "1.6198198198198202",
         "0"
        ],
        [
         "3",
         "66.8",
         "564.8",
         "255",
         "2.2149019607843137",
         "0"
        ],
        [
         "4",
         "52.089999999999996",
         "512.0",
         "359",
         "1.426183844011142",
         "0"
        ]
       ],
       "shape": {
        "columns": 5,
        "rows": 5
       }
      },
      "text/html": [
       "<div>\n",
       "<style scoped>\n",
       "    .dataframe tbody tr th:only-of-type {\n",
       "        vertical-align: middle;\n",
       "    }\n",
       "\n",
       "    .dataframe tbody tr th {\n",
       "        vertical-align: top;\n",
       "    }\n",
       "\n",
       "    .dataframe thead th {\n",
       "        text-align: right;\n",
       "    }\n",
       "</style>\n",
       "<table border=\"1\" class=\"dataframe\">\n",
       "  <thead>\n",
       "    <tr style=\"text-align: right;\">\n",
       "      <th></th>\n",
       "      <th>total charge</th>\n",
       "      <th>total minutes</th>\n",
       "      <th>total calls</th>\n",
       "      <th>avg minutes per call</th>\n",
       "      <th>high_engagement</th>\n",
       "    </tr>\n",
       "  </thead>\n",
       "  <tbody>\n",
       "    <tr>\n",
       "      <th>0</th>\n",
       "      <td>75.56</td>\n",
       "      <td>717.2</td>\n",
       "      <td>303</td>\n",
       "      <td>2.366997</td>\n",
       "      <td>1</td>\n",
       "    </tr>\n",
       "    <tr>\n",
       "      <th>1</th>\n",
       "      <td>59.24</td>\n",
       "      <td>625.2</td>\n",
       "      <td>332</td>\n",
       "      <td>1.883133</td>\n",
       "      <td>1</td>\n",
       "    </tr>\n",
       "    <tr>\n",
       "      <th>2</th>\n",
       "      <td>62.29</td>\n",
       "      <td>539.4</td>\n",
       "      <td>333</td>\n",
       "      <td>1.619820</td>\n",
       "      <td>0</td>\n",
       "    </tr>\n",
       "    <tr>\n",
       "      <th>3</th>\n",
       "      <td>66.80</td>\n",
       "      <td>564.8</td>\n",
       "      <td>255</td>\n",
       "      <td>2.214902</td>\n",
       "      <td>0</td>\n",
       "    </tr>\n",
       "    <tr>\n",
       "      <th>4</th>\n",
       "      <td>52.09</td>\n",
       "      <td>512.0</td>\n",
       "      <td>359</td>\n",
       "      <td>1.426184</td>\n",
       "      <td>0</td>\n",
       "    </tr>\n",
       "  </tbody>\n",
       "</table>\n",
       "</div>"
      ],
      "text/plain": [
       "   total charge  total minutes  total calls  avg minutes per call  \\\n",
       "0         75.56          717.2          303              2.366997   \n",
       "1         59.24          625.2          332              1.883133   \n",
       "2         62.29          539.4          333              1.619820   \n",
       "3         66.80          564.8          255              2.214902   \n",
       "4         52.09          512.0          359              1.426184   \n",
       "\n",
       "   high_engagement  \n",
       "0                1  \n",
       "1                1  \n",
       "2                0  \n",
       "3                0  \n",
       "4                0  "
      ]
     },
     "execution_count": 45,
     "metadata": {},
     "output_type": "execute_result"
    }
   ],
   "source": [
    "# Behavioral Indicator Feature\n",
    "\n",
    "# Define 'high_engagement' as above-median total minutes\n",
    "median_minutes = df_clean['total minutes'].median()\n",
    "df_clean['high_engagement'] = (df_clean['total minutes'] > median_minutes).astype(int)\n",
    "\n",
    "# Preview new columns\n",
    "df_clean[['total charge', 'total minutes', 'total calls', 'avg minutes per call', 'high_engagement']].head()\n"
   ]
  },
  {
   "cell_type": "markdown",
   "id": "e64f9882",
   "metadata": {},
   "source": [
    "### Behavioral Indicator\n",
    "#### high_engagement: A binary flag indicating whether a customer’s total minutes are above the median\n",
    "\n",
    "#### This simplifies continuous behavior into a discrete high-usage indicator\n",
    "\n",
    "### These engineered features aim to boost predictive power and offer clearer insights during model interpretation."
   ]
  },
  {
   "cell_type": "markdown",
   "id": "558fb9d4",
   "metadata": {},
   "source": [
    "### 6. Train-Test Split"
   ]
  },
  {
   "cell_type": "code",
   "execution_count": 46,
   "id": "2d2cbbff",
   "metadata": {},
   "outputs": [
    {
     "name": "stdout",
     "output_type": "stream",
     "text": [
      "Training set shape: (2666, 73)\n",
      "Test set shape: (667, 73)\n",
      "\n",
      "Churn distribution in training set:\n",
      "churn\n",
      "0    0.855214\n",
      "1    0.144786\n",
      "Name: proportion, dtype: float64\n",
      "\n",
      "Churn distribution in test set:\n",
      "churn\n",
      "0    0.854573\n",
      "1    0.145427\n",
      "Name: proportion, dtype: float64\n"
     ]
    }
   ],
   "source": [
    "# Separate features and target\n",
    "X = df_clean.drop('churn', axis=1)\n",
    "y = df_clean['churn']\n",
    "\n",
    "# Perform 80/20 stratified split to maintain class balance\n",
    "X_train, X_test, y_train, y_test = train_test_split(\n",
    "    X, y,\n",
    "    test_size=0.2,\n",
    "    random_state=42,\n",
    "    stratify=y  # Maintain churn distribution\n",
    ")\n",
    "\n",
    "# Confirm shape and class distribution\n",
    "print(f\"Training set shape: {X_train.shape}\")\n",
    "print(f\"Test set shape: {X_test.shape}\")\n",
    "print(\"\\nChurn distribution in training set:\")\n",
    "print(y_train.value_counts(normalize=True))\n",
    "print(\"\\nChurn distribution in test set:\")\n",
    "print(y_test.value_counts(normalize=True))\n"
   ]
  },
  {
   "cell_type": "markdown",
   "id": "16c1d920",
   "metadata": {},
   "source": [
    "### Churn Rate: ~14.5% in both sets — identical distributions 🟰 ✅\n",
    "\n",
    "### This confirms that the model will be evaluated fairly without being biased by class imbalance in the test data."
   ]
  },
  {
   "cell_type": "markdown",
   "id": "2a60f956",
   "metadata": {},
   "source": [
    "### 7: Feature Scaling (for Logistic Regression)\n",
    "### Logistic Regression is a gradient-based model that is sensitive to the scale of input features. If one feature has a much larger numeric range (e.g., total minutes in the hundreds vs. customer service calls in single digits), it can dominate the optimization process and lead to biased or suboptimal results.\n",
    "\n",
    "### To fix this, we apply standardization using StandardScaler, which:\n",
    "\n",
    "#### Subtracts the mean\n",
    "\n",
    "#### Divides by the standard deviation\n",
    "\n",
    "### This transforms all numeric features to have mean = 0 and standard deviation = 1."
   ]
  },
  {
   "cell_type": "code",
   "execution_count": 47,
   "id": "a5f08196",
   "metadata": {},
   "outputs": [
    {
     "name": "stdout",
     "output_type": "stream",
     "text": [
      "Scaled numeric features (train):\n",
      "      account length  area code  number vmail messages  total day minutes  \\\n",
      "3286        0.125737  -0.512780               1.606822           0.743376   \n",
      "86         -0.175309  -0.679502              -0.588791          -0.401294   \n",
      "1349       -0.752313   1.749873               1.021325          -0.704945   \n",
      "1649        0.727828  -0.679502              -0.588791          -2.048368   \n",
      "3000       -0.350919   1.749873              -0.588791           0.800425   \n",
      "\n",
      "      total day calls  total day charge  total eve minutes  total eve calls  \\\n",
      "3286         0.225611          0.743639           0.426270         0.445403   \n",
      "86           0.225611         -0.401678          -0.904961         0.045354   \n",
      "1349         0.325566         -0.704787          -0.746481         0.245378   \n",
      "1649        -0.723960         -2.048208          -0.146239         0.495409   \n",
      "3000         0.425520          0.799931          -1.449735        -0.704736   \n",
      "\n",
      "      total eve charge  total night minutes  total night calls  \\\n",
      "3286          0.426916            -0.843159          -0.195702   \n",
      "86           -0.903861            -0.218499          -0.808555   \n",
      "1349         -0.745379             0.390145          -0.042489   \n",
      "1649         -0.146413            -0.580882           2.000353   \n",
      "3000         -1.449223             1.777611          -0.859626   \n",
      "\n",
      "      total night charge  total intl minutes  total intl calls  \\\n",
      "3286           -0.842280            1.018565          1.436500   \n",
      "86             -0.219411           -0.800731          0.203496   \n",
      "1349            0.390111           -1.656870         -0.618506   \n",
      "1649           -0.579785            0.055409         -0.207505   \n",
      "3000            1.778219            1.517980         -0.207505   \n",
      "\n",
      "      total intl charge  customer service calls  total charge  total minutes  \\\n",
      "3286           1.021815               -1.200212      0.726949       0.253991   \n",
      "86            -0.801460                1.875007     -0.833101      -0.904181   \n",
      "1349          -1.660249                0.337397     -0.967340      -0.685552   \n",
      "1649           0.057329               -1.200212     -1.995228      -1.654245   \n",
      "3000           1.523876                1.106202      0.606134       0.710308   \n",
      "\n",
      "      total calls  avg minutes per call  \n",
      "3286     0.381308             -0.089330  \n",
      "86      -0.288962             -0.623164  \n",
      "1349     0.264739             -0.737081  \n",
      "1649     0.993294             -1.751235  \n",
      "3000    -0.667811              0.955274  \n"
     ]
    }
   ],
   "source": [
    "\n",
    "# 1. Identify numeric columns only (excluding one-hot encoded state columns)\n",
    "# We'll exclude binary dummy columns that are already 0/1\n",
    "numeric_cols = [\n",
    "    col for col in X_train.columns\n",
    "    if X_train[col].nunique() > 2 and X_train[col].dtype in ['int64', 'float64']\n",
    "]\n",
    "\n",
    "# 2. Initialize the scaler\n",
    "scaler = StandardScaler()\n",
    "\n",
    "# 3. Fit on training data, then transform both train and test sets\n",
    "X_train_scaled = X_train.copy()\n",
    "X_test_scaled = X_test.copy()\n",
    "\n",
    "X_train_scaled[numeric_cols] = scaler.fit_transform(X_train[numeric_cols])\n",
    "X_test_scaled[numeric_cols] = scaler.transform(X_test[numeric_cols])\n",
    "\n",
    "# 4. Preview scaled features\n",
    "print(\"Scaled numeric features (train):\")\n",
    "print(X_train_scaled[numeric_cols].head())\n"
   ]
  },
  {
   "cell_type": "markdown",
   "id": "95306e28",
   "metadata": {},
   "source": [
    "We applied StandardScaler to 17 numeric features in the dataset (e.g., total minutes, customer service calls, total intl charge, etc.) to ensure they all follow a standard normal distribution:\n",
    "\n",
    "- Mean of 0\n",
    "- Standard deviation of 1\n",
    "\n",
    "This step is essential for models like Logistic Regression which are sensitive to feature scales.\n",
    "\n",
    "As seen in the preview:\n",
    "\n",
    "- Features like area code, total charge, and avg minutes per call now have standardized values like -1.20, 0.74, -0.09, etc.\n",
    "- No binary columns were scaled.\n",
    "\n",
    "The transformed datasets are:\n",
    "\n",
    "- `X_train_scaled` for training the logistic regression model\n",
    "- `X_test_scaled` for evaluating it"
   ]
  },
  {
   "cell_type": "markdown",
   "id": "147f62a5",
   "metadata": {},
   "source": [
    "## Modeling\n",
    "\n",
    "### Objective\n",
    "With the data now fully prepared, we move to the **Modeling phase**, where the goal is to build predictive models that can accurately classify whether a customer is likely to churn. We will leverage both **tree-based** and **linear** classification algorithms from `scikit-learn`, utilizing the libraries we’ve already imported.\n",
    "\n",
    "### Libraries in Use\n",
    "We will use the following previously imported libraries during modeling:\n",
    "\n",
    "- `DecisionTreeClassifier` from `sklearn.tree` – our primary model\n",
    "- `LogisticRegression` from `sklearn.linear_model` – for comparison\n",
    "- `train_test_split` from `sklearn.model_selection` – used earlier to create train-test sets\n",
    "- `StandardScaler` from `sklearn.preprocessing` – used earlier to scale numeric features\n",
    "- `accuracy_score`, `precision_score`, `recall_score`, `f1_score`, `roc_auc_score`, `confusion_matrix`, `classification_report`, `roc_curve`, `auc` from `sklearn.metrics` – for evaluation\n",
    "- `matplotlib.pyplot` and `seaborn` – for visualizations like confusion matrices and ROC curves\n",
    "\n",
    "### Models We Will Use\n",
    "1. **Decision Tree Classifier** – A non-parametric model that splits data into branches based on decision rules. It's intuitive and works well with both categorical and numerical data.\n",
    "2. **Logistic Regression** – A parametric linear model that estimates the probability of class membership. It requires **scaled numeric input**, so we will use the `X_train_scaled` and `X_test_scaled` datasets.\n",
    "\n",
    "### Modeling Steps\n",
    "\n",
    "#### Step 1: Model Training\n",
    "- Train the **Decision Tree** on `X_train` and `y_train`.\n",
    "- Train the **Logistic Regression** on the scaled dataset `X_train_scaled` and `y_train`.\n",
    "\n",
    "#### Step 2: Model Evaluation on Test Set\n",
    "- Generate predictions using both models.\n",
    "  - Use `X_test` for Decision Tree.\n",
    "  - Use `X_test_scaled` for Logistic Regression.\n",
    "- Evaluate both models using:\n",
    "  - **Accuracy** – How often the classifier is correct\n",
    "  - **Precision** – Proportion of predicted churns that are actually churns\n",
    "  - **Recall** – Proportion of actual churns that were correctly predicted\n",
    "  - **F1-Score** – Harmonic mean of precision and recall\n",
    "  - **ROC-AUC Score** – Measures the ability to distinguish between classes\n",
    "  - **Confusion Matrix** – Breakdown of prediction outcomes\n",
    "  - **Classification Report** – Summarizes all metrics\n",
    "\n",
    "#### Step 3: Model Comparison\n",
    "- Compare performance metrics of both models.\n",
    "- Visualize ROC curves.\n",
    "- Discuss strengths, weaknesses, and trade-offs.\n",
    "\n",
    "#### Step 4: (Optional): Feature Importance\n",
    "- For the Decision Tree, extract and visualize feature importance using `feature_importances_`.\n",
    "\n",
    "---\n",
    "\n",
    "### Expected Outcome\n",
    "At the end of this phase, we will:\n",
    "- Have two trained models\n",
    "- Understand their performance on the test set\n",
    "- Select the better-performing model based on business priorities (e.g., minimizing false negatives)\n"
   ]
  },
  {
   "cell_type": "markdown",
   "id": "cc527a4d",
   "metadata": {},
   "source": [
    "## 1. Model Training\n",
    "\n",
    "We will now train two classification models:\n",
    "\n",
    "1. **Decision Tree Classifier** – Trained using the original (unscaled) training data `X_train`.\n",
    "2. **Logistic Regression** – Trained using the scaled numeric features in `X_train_scaled`.\n",
    "\n",
    "Each model will learn the underlying patterns between the input features and the target label `churn`. These models will later be evaluated to determine how well they generalize to new, unseen customer data.\n",
    "\n",
    "Let’s fit both models to the training data.\n"
   ]
  },
  {
   "cell_type": "code",
   "execution_count": 48,
   "id": "e5bf2b72",
   "metadata": {},
   "outputs": [
    {
     "data": {
      "text/html": [
       "<style>#sk-container-id-1 {color: black;background-color: white;}#sk-container-id-1 pre{padding: 0;}#sk-container-id-1 div.sk-toggleable {background-color: white;}#sk-container-id-1 label.sk-toggleable__label {cursor: pointer;display: block;width: 100%;margin-bottom: 0;padding: 0.3em;box-sizing: border-box;text-align: center;}#sk-container-id-1 label.sk-toggleable__label-arrow:before {content: \"▸\";float: left;margin-right: 0.25em;color: #696969;}#sk-container-id-1 label.sk-toggleable__label-arrow:hover:before {color: black;}#sk-container-id-1 div.sk-estimator:hover label.sk-toggleable__label-arrow:before {color: black;}#sk-container-id-1 div.sk-toggleable__content {max-height: 0;max-width: 0;overflow: hidden;text-align: left;background-color: #f0f8ff;}#sk-container-id-1 div.sk-toggleable__content pre {margin: 0.2em;color: black;border-radius: 0.25em;background-color: #f0f8ff;}#sk-container-id-1 input.sk-toggleable__control:checked~div.sk-toggleable__content {max-height: 200px;max-width: 100%;overflow: auto;}#sk-container-id-1 input.sk-toggleable__control:checked~label.sk-toggleable__label-arrow:before {content: \"▾\";}#sk-container-id-1 div.sk-estimator input.sk-toggleable__control:checked~label.sk-toggleable__label {background-color: #d4ebff;}#sk-container-id-1 div.sk-label input.sk-toggleable__control:checked~label.sk-toggleable__label {background-color: #d4ebff;}#sk-container-id-1 input.sk-hidden--visually {border: 0;clip: rect(1px 1px 1px 1px);clip: rect(1px, 1px, 1px, 1px);height: 1px;margin: -1px;overflow: hidden;padding: 0;position: absolute;width: 1px;}#sk-container-id-1 div.sk-estimator {font-family: monospace;background-color: #f0f8ff;border: 1px dotted black;border-radius: 0.25em;box-sizing: border-box;margin-bottom: 0.5em;}#sk-container-id-1 div.sk-estimator:hover {background-color: #d4ebff;}#sk-container-id-1 div.sk-parallel-item::after {content: \"\";width: 100%;border-bottom: 1px solid gray;flex-grow: 1;}#sk-container-id-1 div.sk-label:hover label.sk-toggleable__label {background-color: #d4ebff;}#sk-container-id-1 div.sk-serial::before {content: \"\";position: absolute;border-left: 1px solid gray;box-sizing: border-box;top: 0;bottom: 0;left: 50%;z-index: 0;}#sk-container-id-1 div.sk-serial {display: flex;flex-direction: column;align-items: center;background-color: white;padding-right: 0.2em;padding-left: 0.2em;position: relative;}#sk-container-id-1 div.sk-item {position: relative;z-index: 1;}#sk-container-id-1 div.sk-parallel {display: flex;align-items: stretch;justify-content: center;background-color: white;position: relative;}#sk-container-id-1 div.sk-item::before, #sk-container-id-1 div.sk-parallel-item::before {content: \"\";position: absolute;border-left: 1px solid gray;box-sizing: border-box;top: 0;bottom: 0;left: 50%;z-index: -1;}#sk-container-id-1 div.sk-parallel-item {display: flex;flex-direction: column;z-index: 1;position: relative;background-color: white;}#sk-container-id-1 div.sk-parallel-item:first-child::after {align-self: flex-end;width: 50%;}#sk-container-id-1 div.sk-parallel-item:last-child::after {align-self: flex-start;width: 50%;}#sk-container-id-1 div.sk-parallel-item:only-child::after {width: 0;}#sk-container-id-1 div.sk-dashed-wrapped {border: 1px dashed gray;margin: 0 0.4em 0.5em 0.4em;box-sizing: border-box;padding-bottom: 0.4em;background-color: white;}#sk-container-id-1 div.sk-label label {font-family: monospace;font-weight: bold;display: inline-block;line-height: 1.2em;}#sk-container-id-1 div.sk-label-container {text-align: center;}#sk-container-id-1 div.sk-container {/* jupyter's `normalize.less` sets `[hidden] { display: none; }` but bootstrap.min.css set `[hidden] { display: none !important; }` so we also need the `!important` here to be able to override the default hidden behavior on the sphinx rendered scikit-learn.org. See: https://github.com/scikit-learn/scikit-learn/issues/21755 */display: inline-block !important;position: relative;}#sk-container-id-1 div.sk-text-repr-fallback {display: none;}</style><div id=\"sk-container-id-1\" class=\"sk-top-container\"><div class=\"sk-text-repr-fallback\"><pre>LogisticRegression(max_iter=1000, random_state=42)</pre><b>In a Jupyter environment, please rerun this cell to show the HTML representation or trust the notebook. <br />On GitHub, the HTML representation is unable to render, please try loading this page with nbviewer.org.</b></div><div class=\"sk-container\" hidden><div class=\"sk-item\"><div class=\"sk-estimator sk-toggleable\"><input class=\"sk-toggleable__control sk-hidden--visually\" id=\"sk-estimator-id-1\" type=\"checkbox\" checked><label for=\"sk-estimator-id-1\" class=\"sk-toggleable__label sk-toggleable__label-arrow\">LogisticRegression</label><div class=\"sk-toggleable__content\"><pre>LogisticRegression(max_iter=1000, random_state=42)</pre></div></div></div></div></div>"
      ],
      "text/plain": [
       "LogisticRegression(max_iter=1000, random_state=42)"
      ]
     },
     "execution_count": 48,
     "metadata": {},
     "output_type": "execute_result"
    }
   ],
   "source": [
    "# Initialize the classifiers\n",
    "decision_tree = DecisionTreeClassifier(random_state=42)\n",
    "log_reg = LogisticRegression(random_state=42, max_iter=1000)\n",
    "\n",
    "# Train the Decision Tree on unscaled data\n",
    "decision_tree.fit(X_train, y_train)\n",
    "\n",
    "# Train the Logistic Regression on scaled numeric data\n",
    "log_reg.fit(X_train_scaled, y_train)\n"
   ]
  },
  {
   "cell_type": "markdown",
   "id": "65759d24",
   "metadata": {},
   "source": [
    "max_iter=1000: The solver can iterate up to 1000 times for convergence (especially useful with many features).\n",
    "\n",
    "random_state=42: Ensures reproducibility."
   ]
  },
  {
   "cell_type": "markdown",
   "id": "12509fb8",
   "metadata": {},
   "source": [
    "## 2. Model Evaluation\n",
    "\n",
    "We will now assess the performance of our trained models — **Decision Tree** and **Logistic Regression** — on the test set.\n",
    "\n",
    "We’ll use:\n",
    "- `X_test` for the Decision Tree (unscaled)\n",
    "- `X_test_scaled` for the Logistic Regression (scaled)"
   ]
  },
  {
   "cell_type": "code",
   "execution_count": 49,
   "id": "c1bdca26",
   "metadata": {},
   "outputs": [
    {
     "name": "stdout",
     "output_type": "stream",
     "text": [
      "\n",
      "Decision Tree Evaluation Metrics\n",
      "----------------------------------------\n",
      "Accuracy: 0.9400299850074962\n",
      "Precision: 0.8\n",
      "Recall: 0.7835051546391752\n",
      "F1 Score: 0.7916666666666666\n",
      "ROC AUC: 0.8750859106529209\n",
      "\n",
      "Confusion Matrix:\n",
      " [[551  19]\n",
      " [ 21  76]]\n",
      "\n",
      "Classification Report:\n",
      "               precision    recall  f1-score   support\n",
      "\n",
      "           0       0.96      0.97      0.96       570\n",
      "           1       0.80      0.78      0.79        97\n",
      "\n",
      "    accuracy                           0.94       667\n",
      "   macro avg       0.88      0.88      0.88       667\n",
      "weighted avg       0.94      0.94      0.94       667\n",
      "\n",
      "\n",
      "Logistic Regression Evaluation Metrics\n",
      "----------------------------------------\n",
      "Accuracy: 0.8605697151424287\n",
      "Precision: 0.5416666666666666\n",
      "Recall: 0.26804123711340205\n",
      "F1 Score: 0.35862068965517235\n",
      "ROC AUC: 0.8170736118647133\n",
      "\n",
      "Confusion Matrix:\n",
      " [[548  22]\n",
      " [ 71  26]]\n",
      "\n",
      "Classification Report:\n",
      "               precision    recall  f1-score   support\n",
      "\n",
      "           0       0.89      0.96      0.92       570\n",
      "           1       0.54      0.27      0.36        97\n",
      "\n",
      "    accuracy                           0.86       667\n",
      "   macro avg       0.71      0.61      0.64       667\n",
      "weighted avg       0.84      0.86      0.84       667\n",
      "\n"
     ]
    }
   ],
   "source": [
    "# Predictions\n",
    "y_pred_tree = decision_tree.predict(X_test)\n",
    "y_pred_log = log_reg.predict(X_test_scaled)\n",
    "\n",
    "# Probabilities for ROC AUC\n",
    "y_proba_tree = decision_tree.predict_proba(X_test)[:, 1]\n",
    "y_proba_log = log_reg.predict_proba(X_test_scaled)[:, 1]\n",
    "\n",
    "# Function to print evaluation metrics\n",
    "def evaluate_model(name, y_test, y_pred, y_proba):\n",
    "    print(f\"\\n{name} Evaluation Metrics\")\n",
    "    print(\"-\" * 40)\n",
    "    print(\"Accuracy:\", accuracy_score(y_test, y_pred))\n",
    "    print(\"Precision:\", precision_score(y_test, y_pred))\n",
    "    print(\"Recall:\", recall_score(y_test, y_pred))\n",
    "    print(\"F1 Score:\", f1_score(y_test, y_pred))\n",
    "    print(\"ROC AUC:\", roc_auc_score(y_test, y_proba))\n",
    "    print(\"\\nConfusion Matrix:\\n\", confusion_matrix(y_test, y_pred))\n",
    "    print(\"\\nClassification Report:\\n\", classification_report(y_test, y_pred))\n",
    "\n",
    "# Evaluate both models\n",
    "evaluate_model(\"Decision Tree\", y_test, y_pred_tree, y_proba_tree)\n",
    "evaluate_model(\"Logistic Regression\", y_test, y_pred_log, y_proba_log)\n"
   ]
  },
  {
   "cell_type": "markdown",
   "id": "e0bc8949",
   "metadata": {},
   "source": [
    "## 2. Model Evaluation Results\n",
    "\n",
    "We evaluated two models — **Decision Tree Classifier** and **Logistic Regression** — using multiple metrics on the test set. The Decision Tree outperformed Logistic Regression across nearly all measures.\n",
    "\n",
    "### Decision Tree Performance:\n",
    "- **Accuracy**: 94%\n",
    "- **Precision**: 80%\n",
    "- **Recall**: 78.35%\n",
    "- **F1 Score**: 79.17%\n",
    "- **ROC AUC**: 87.5%\n",
    "- **Confusion Matrix**:\n",
    "  - True Negatives: 551\n",
    "  - False Positives: 19\n",
    "  - False Negatives: 21\n",
    "  - True Positives: 76\n",
    "\n",
    " **Key Insight**: The Decision Tree balances both classes effectively, capturing a strong portion of actual churners.\n",
    "\n",
    "---\n",
    "\n",
    "### Logistic Regression Performance:\n",
    "- **Accuracy**: 86%\n",
    "- **Precision**: 54%\n",
    "- **Recall**: 26.8%\n",
    "- **F1 Score**: 35.8%\n",
    "- **ROC AUC**: 81.7%\n",
    "- **Confusion Matrix**:\n",
    "  - True Negatives: 548\n",
    "  - False Positives: 22\n",
    "  - False Negatives: 71\n",
    "  - True Positives: 26\n",
    "\n",
    " **Observation**: While accuracy is high, Logistic Regression struggles with recall — it misses many actual churners, which is critical in churn prediction tasks.\n",
    "\n",
    "---\n",
    "\n",
    "### Conclusion:\n",
    "The **Decision Tree** model is better suited for this task, especially due to its higher recall and F1 score. It’s more effective at identifying churned customers — the primary business objective."
   ]
  }
 ],
 "metadata": {
  "kernelspec": {
   "display_name": "base",
   "language": "python",
   "name": "python3"
  },
  "language_info": {
   "codemirror_mode": {
    "name": "ipython",
    "version": 3
   },
   "file_extension": ".py",
   "mimetype": "text/x-python",
   "name": "python",
   "nbconvert_exporter": "python",
   "pygments_lexer": "ipython3",
   "version": "3.11.5"
  }
 },
 "nbformat": 4,
 "nbformat_minor": 5
}
